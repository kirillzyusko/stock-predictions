{
 "cells": [
  {
   "cell_type": "markdown",
   "metadata": {
    "collapsed": true,
    "id": "WZfImSn8R0d0",
    "colab_type": "text"
   },
   "source": [
    "<b>Google Colab</b> <a href=\"https://colab.research.google.com/github/kirillzyusko/stock-predictions/blob/master/lab.ipynb\">link</a>"
   ]
  },
  {
   "cell_type": "code",
   "execution_count": null,
   "metadata": {
    "id": "SBIxqfvSR0d2",
    "colab_type": "code",
    "outputId": "bc89b32e-5f99-4688-f54d-da0a05009869",
    "colab": {
     "base_uri": "https://localhost:8080/",
     "height": 404.0
    }
   },
   "outputs": [],
   "source": [
    "import pandas as pd\n",
    "\n",
    "train = pd.read_csv('train.csv')\n",
    "store = pd.read_csv('store.csv')\n",
    "\n",
    "def one_hot(dataframe, column):\n",
    "    # use pd.concat to join the new columns with your original dataframe\n",
    "    df = pd.concat([dataframe, pd.get_dummies(dataframe[column], prefix=column)], axis=1)\n",
    "    # now drop the original column (you don't need it anymore)\n",
    "    df.drop([column], axis=1, inplace=True)\n",
    "\n",
    "    return df\n",
    "\n",
    "def inner_join(df1, df2, column):\n",
    "    return pd.concat([df1.set_index(column),df2.set_index(column)], axis=1, join='inner').reset_index()\n",
    "\n",
    "def where_equal(df, column, value):\n",
    "    return df[df[column] == value]\n",
    "\n",
    "def get_data():\n",
    "    df = one_hot(train, 'DayOfWeek')\n",
    "\n",
    "    df = inner_join(df, store, 'Store')\n",
    "    df = one_hot(df, 'StoreType')\n",
    "    df = one_hot(df, 'Assortment')\n",
    "    df = one_hot(df, 'Store')\n",
    "\n",
    "    df.drop([\n",
    "        'Date',\n",
    "        'Customers',\n",
    "        'Promo',\n",
    "        'PromoInterval',\n",
    "        'Promo2',\n",
    "        'Promo2SinceWeek',\n",
    "        'Promo2SinceYear',\n",
    "        'CompetitionDistance',\n",
    "        'CompetitionOpenSinceMonth',\n",
    "        'CompetitionOpenSinceYear'\n",
    "    ], axis=1, inplace=True)\n",
    "\n",
    "    # data = where_equal(df, 'Store', 1)\n",
    "    # print(list(df))\n",
    "    print(df.head())\n",
    "\n",
    "    # df.to_csv('processed_train.csv', encoding='utf-8', index=False)\n",
    "\n",
    "    return df\n",
    "\n",
    "# get_data()"
   ]
  },
  {
   "cell_type": "code",
   "execution_count": null,
   "metadata": {
    "id": "EHH44E0AR0d5",
    "colab_type": "code",
    "outputId": "a1d10b35-7fb6-4df3-aacc-962c05c0782a",
    "colab": {
     "base_uri": "https://localhost:8080/",
     "height": 34.0
    },
    "collapsed": false
   },
   "outputs": [
    {
     "name": "stdout",
     "output_type": "stream",
     "text": [
      "Hello world 2\n"
     ]
    }
   ],
   "source": [
    "from pandas import read_csv\n",
    "from keras.models import Sequential\n",
    "from keras.layers import Dense\n",
    "from keras import regularizers\n",
    "from keras.layers import Dropout\n",
    "from sklearn.model_selection import train_test_split\n",
    "\n",
    "import tensorflow as tf\n",
    "\n",
    "from preprocessing import get_data\n",
    "\n",
    "data = get_data()\n",
    "\n",
    "y = data['Sales']\n",
    "data.drop(['Sales'], axis=1, inplace=True)\n",
    "X = data\n",
    "\n",
    "X_train, X_test, y_train, y_test = train_test_split(X, y, test_size=0.25, random_state=42)\n",
    "\n",
    "length, features = data.shape\n",
    "stocks = 1115\n",
    "\n",
    "with tf.device('/cpu:0'):\n",
    "    model = Sequential()\n",
    "    model.add(Dense(int(features * 1.5), input_dim=features, kernel_initializer='normal', kernel_regularizer=regularizers.l2(0.001), activation='relu', name='hidden_1'))\n",
    "    #model.add(Dropout(0.4, name='dropout_1'))\n",
    "    model.add(Dense(features, kernel_initializer='normal', activation='relu', kernel_regularizer=regularizers.l2(0.001), name='hidden_2'))\n",
    "    #model.add(Dropout(0.4, name='dropout_2'))\n",
    "    #model.add(Dense(int(features * 0.5), kernel_initializer='normal', activation='relu', kernel_regularizer=regularizers.l2(0.001), name='hidden_3'))\n",
    "    #model.add(Dropout(0.5, name='dropout_3'))\n",
    "    model.add(Dense(1, kernel_initializer='normal', kernel_regularizer=regularizers.l2(0.01), name='output_layer'))\n",
    "\n",
    "    # Compile model\n",
    "    model.compile(loss='mse', optimizer='adam', metrics=['acc'])\n",
    "\n",
    "    print(model.summary())\n",
    "\n",
    "    model.fit(X_train, y_train,\n",
    "              epochs=50,\n",
    "              verbose=1,\n",
    "              validation_data=(X_test, y_test))\n",
    "\n",
    "    score = model.evaluate(X_test, y_test, verbose=0)\n",
    "    print(score)"
   ]
  },
  {
   "cell_type": "code",
   "execution_count": null,
   "metadata": {},
   "outputs": [],
   "source": [
    "import pandas as pd\n",
    "import matplotlib.pyplot as plt\n",
    "\n",
    "df = pd.read_csv('train.csv')\n",
    "data = df[df['Store'] == 4]['Sales']\n",
    "\n",
    "print(len(data))\n",
    "\n",
    "plt.plot(data)\n",
    "plt.show()"
   ]
  }
 ],
 "metadata": {
  "kernelspec": {
   "name": "python3",
   "display_name": "Python 3"
  },
  "colab": {
   "name": "lab.ipynb",
   "provenance": []
  },
  "accelerator": "TPU"
 },
 "nbformat": 4,
 "nbformat_minor": 0
}
