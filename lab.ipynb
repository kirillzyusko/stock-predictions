{
 "cells": [
  {
   "cell_type": "code",
   "execution_count": null,
   "metadata": {
    "collapsed": true,
    "id": "WZfImSn8R0d0",
    "colab_type": "text"
   },
   "outputs": [],
   "source": [
    "<b>Google Colab</b> <a href=\"https://colab.research.google.com/github/kirillzyusko/stock-predictions/blob/master/lab.ipynb\">link</a>"
   ]
  },
  {
   "cell_type": "code",
   "execution_count": null,
   "metadata": {
    "id": "SBIxqfvSR0d2",
    "colab_type": "code",
    "outputId": "bc89b32e-5f99-4688-f54d-da0a05009869",
    "colab": {
     "base_uri": "https://localhost:8080/",
     "height": 404.0
    }
   },
   "outputs": [],
   "source": [
    "print('Hello World')"
   ]
  },
  {
   "cell_type": "code",
   "execution_count": 0,
   "metadata": {
    "id": "EHH44E0AR0d5",
    "colab_type": "code",
    "outputId": "a1d10b35-7fb6-4df3-aacc-962c05c0782a",
    "colab": {
     "base_uri": "https://localhost:8080/",
     "height": 34.0
    },
    "collapsed": false
   },
   "outputs": [
    {
     "name": "stdout",
     "output_type": "stream",
     "text": [
      "Hello world 2\n"
     ]
    }
   ],
   "source": [
    "print('Hello world 2')"
   ]
  }
 ],
 "metadata": {
  "kernelspec": {
   "name": "python3",
   "display_name": "Python 3"
  },
  "colab": {
   "name": "lab.ipynb",
   "provenance": []
  },
  "accelerator": "TPU"
 },
 "nbformat": 4,
 "nbformat_minor": 0
}
